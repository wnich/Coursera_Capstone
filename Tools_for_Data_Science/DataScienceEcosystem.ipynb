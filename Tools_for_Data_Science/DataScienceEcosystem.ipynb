{
 "cells": [
  {
   "cell_type": "markdown",
   "metadata": {},
   "source": [
    "<center>\n",
    "    <img src=\"https://cf-courses-data.s3.us.cloud-object-storage.appdomain.cloud/IBMDeveloperSkillsNetwork-DS0105EN-SkillsNetwork/labs/Module2/images/SN_web_lightmode.png\" width=\"300\" alt=\"cognitiveclass.ai logo\">\n",
    "</center>\n"
   ]
  },
  {
   "cell_type": "markdown",
   "metadata": {},
   "source": [
    "# **Data Science Tools and Ecosystem**"
   ]
  },
  {
   "cell_type": "markdown",
   "metadata": {},
   "source": [
    "In this notebook, Data Science Tools and Ecosystem are summarized.\n",
    "\n",
    "Tools for Data Science refer to software programs, platforms, and technologies that help in performing various tasks related to data science, such as data management, data integration, data visualization, model building, deployment, monitoring, and assessment. \n",
    "\n",
    "Some popular examples of tools for data science include programming languages like Python, R, and SQL, data management tools like MySQL, and Hadoop, data integration tools like Apache, data visualization tools like Tableau and Power BI, and machine learning platforms like TensorFlow and Scikit-learn. \n",
    "\n",
    "These tools help data scientists to efficiently and effectively perform various data-related tasks and derive meaningful insights from data."
   ]
  },
  {
   "cell_type": "markdown",
   "metadata": {},
   "source": [
    "**Objectives:**\n",
    "<ul>\n",
    "<li>Create a Jupyter Notebook</li>\n",
    "<li>Insert code and markdown cells</li>\n",
    "<li>Share your Jupyter Notebook through GitHub</li>\n",
    "</ul>\n",
    "\n"
   ]
  },
  {
   "cell_type": "markdown",
   "metadata": {},
   "source": [
    "**Some of the popular languages that Data Scientists use are:**\n",
    "<ol>\n",
    "<li>Python</li>\n",
    "<li>R</li>\n",
    "<li>SQL</li>\n",
    "<li>Java</li>\n",
    "<li>MATLAB</li>\n",
    "<li>Scala</li>\n",
    "<li>Julia</li>\n",
    "<li>SAS</li>\n",
    "<li>SPSS</li>\n",
    "<li>Perl</li>\n",
    "<li>JavaScript</li>\n",
    "</ol>"
   ]
  },
  {
   "cell_type": "markdown",
   "metadata": {},
   "source": [
    "**Some of the commonly used libraries used by Data Scientists include:**\n",
    "\n",
    "<ol>\n",
    "<li>NumPy: A library for numerical computing with Python</li>\n",
    "<li>Pandas: A library for data manipulation and analysis</li>\n",
    "<li>Matplotlib: A library for creating static, animated, and interactive visualizations in Python</li>\n",
    "<li>Seaborn: A library for creating statistical visualizations in Python</li>\n",
    "<li>Scikit-learn: A library for machine learning in Python, including tools for classification, regression, clustering, and dimensionality reduction</li>\n",
    "<li>TensorFlow: A library for machine learning and deep learning, with tools for building and training neural networks</li>\n",
    "<li>Keras: A high-level API for building and training deep learning models, built on top of TensorFlow</li>\n",
    "<li>PyTorch: A library for machine learning and deep learning, with tools for building and training neural networks, built by Facebook</li>\n",
    "<li>OpenCV: A library for computer vision and machine learning in Python</li>\n",
    "<li>Spark: A library for distributed computing and big data processing, with APIs for Python, Java, Scala, and R.</li>\n",
    "</ol>\n",
    "\n",
    "\n"
   ]
  },
  {
   "cell_type": "markdown",
   "metadata": {},
   "source": [
    " **A table of Data Science tools**\n",
    "|Category | Data Science Tools| \n",
    "| --- | --- | \n",
    "| Data Management | MySQL, PostgreSQL, MongoDB, Apache CouchDB, Apache Cassandra, Hadoop File System, Ceph, elastic search, Oracle Database, Microsoft SQL Server, IBM Db2, SAP, SAS, Talend, Watson Studio Desktop |\n",
    "| Data Integration and Transformation | Apache AirFlow, KubeFlow, Apache Kafka, Apache Nifi, Apache SparkSQL, NodeRED |\n",
    "| Data Visualization |Pixie Dust, Hue, Kibana, Apache Superset |\n",
    "| Model Deployment| Apache PredictionIO, Seldon, Kubernetes, Redhat OpenShift, Mleap, TensorFlow service, TensorFlow lite, TensorFlow dot JS|\n",
    "| Model Monitoring and Assessment | odelDB, Prometheus, IBM AI Fairness 360, IBM Adversarial Robustness 360 Toolbox, IBM AI Explainability 360 |\n",
    "| Code Asset Management | Git, GitHub |\n",
    "| Data Asset Management | Apache Atlas |\n",
    "| Data Integration | Informatica PowerCenter, IBM Infosphere DataStage|\n",
    "| Model Building |  SPSS, SAS|\n",
    "|Integrated Platforms | Watson Studio, Watson Open Scale|\n",
    "\n"
   ]
  },
  {
   "cell_type": "markdown",
   "metadata": {},
   "source": [
    "### Arithmetic expressions involve mathematical operations such as addition, subtraction, multiplication, and division. \n",
    "### Below are a few examples of evaluating arithmetic expressions in Python.\n"
   ]
  },
  {
   "cell_type": "markdown",
   "metadata": {},
   "source": [
    "This a simple arithmetic expression to mutiply then add integers."
   ]
  },
  {
   "cell_type": "code",
   "execution_count": 1,
   "metadata": {},
   "outputs": [
    {
     "name": "stdout",
     "output_type": "stream",
     "text": [
      "17\n",
      "True\n"
     ]
    }
   ],
   "source": [
    "result = (3 * 4) + 5\n",
    "print(result)\n",
    "print(result ==17)\n"
   ]
  },
  {
   "cell_type": "markdown",
   "metadata": {},
   "source": [
    "This will convert 200 minutes to hours by diving by 60."
   ]
  },
  {
   "cell_type": "code",
   "execution_count": 3,
   "metadata": {},
   "outputs": [
    {
     "name": "stdout",
     "output_type": "stream",
     "text": [
      "3.3333333333333335\n"
     ]
    }
   ],
   "source": [
    "minutes = 200\n",
    "hours = minutes / 60\n",
    "print(hours)"
   ]
  },
  {
   "cell_type": "markdown",
   "metadata": {},
   "source": [
    "## Author\n",
    "Wanicha Mueangcharoen"
   ]
  }
 ],
 "metadata": {
  "kernelspec": {
   "display_name": "Python",
   "language": "python",
   "name": "conda-env-python-py"
  },
  "language_info": {
   "codemirror_mode": {
    "name": "ipython",
    "version": 3
   },
   "file_extension": ".py",
   "mimetype": "text/x-python",
   "name": "python",
   "nbconvert_exporter": "python",
   "pygments_lexer": "ipython3",
   "version": "3.7.12"
  }
 },
 "nbformat": 4,
 "nbformat_minor": 4
}
